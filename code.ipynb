{
  "nbformat": 4,
  "nbformat_minor": 0,
  "metadata": {
    "colab": {
      "name": "daaproject.ipynb",
      "provenance": [],
      "collapsed_sections": []
    },
    "kernelspec": {
      "name": "python3",
      "display_name": "Python 3"
    }
  },
  "cells": [
    {
      "cell_type": "code",
      "metadata": {
        "id": "DNIXFH_b-E_h"
      },
      "source": [
        "def makeset(s):\n",
        "  x1=[]\n",
        "  for x in s:\n",
        "    x1.append(x)\n",
        "  sets.append(x1)"
      ],
      "execution_count": 8,
      "outputs": []
    },
    {
      "cell_type": "code",
      "metadata": {
        "id": "JID3it-C-Ghe"
      },
      "source": [
        "def sorting(e):\n",
        "  e = sorted(e.items(), key=lambda x: x[1])\n",
        "  return e"
      ],
      "execution_count": 9,
      "outputs": []
    },
    {
      "cell_type": "code",
      "metadata": {
        "id": "tcaM7JTC_U5q"
      },
      "source": [
        "def findset(v):\n",
        "  for s in sets:\n",
        "    if v in s:\n",
        "      return s"
      ],
      "execution_count": 10,
      "outputs": []
    },
    {
      "cell_type": "code",
      "metadata": {
        "id": "ehB91zw-5_OG",
        "outputId": "9c22c94f-ca13-4740-a5de-7c69056327a3",
        "colab": {
          "base_uri": "https://localhost:8080/",
          "height": 51
        }
      },
      "source": [
        "vertex=['a','b','c','d','s','t']\n",
        "e={ ('d','t'):2, ('a','c'):3, ('c','d'):3, ('c','b'):4,  ('b','t'):5, ('b','d'):2,('a','b'):5, ('s','a'):7,  ('s','c'):8}\n",
        "# store connected edges\n",
        "t=[]\n",
        "\n",
        "# store sets at any point\n",
        "sets=[]\n",
        "\n",
        "# cost of mst\n",
        "cost=0\n",
        "\n",
        "# making intial sets\n",
        "for i in vertex:\n",
        "  makeset([i])\n",
        "\n",
        "# sorting according to the weights\n",
        "e=sorting(e)\n",
        "\n",
        "\n",
        "for v in e:\n",
        "  # finiding sets of the connect vertices\n",
        "  s1=findset(v[0][0])\n",
        "  s2=findset(v[0][1])\n",
        "  if (s1!=s2):\n",
        "    # removing sets from the list\n",
        "    sets.remove(s1)\n",
        "    sets.remove(s2)\n",
        "    s3=[v[0][0],v[0][1]]\n",
        "    # adding edge to traversed list\n",
        "    t.append(s3) \n",
        "    # union of two sets\n",
        "    for i in s2:\n",
        "      s1.append(i)\n",
        "    makeset(s1)\n",
        "    # adding cost\n",
        "    cost+=v[1]\n",
        "\n",
        "print(t)\n",
        "print('TOTAL COST TO TRAVERSE:',cost)\n"
      ],
      "execution_count": 5,
      "outputs": [
        {
          "output_type": "stream",
          "text": [
            "[['d', 't'], ['b', 'd'], ['a', 'c'], ['c', 'd'], ['s', 'a']]\n",
            "TOTAL COST TO TRAVERSE: 17\n"
          ],
          "name": "stdout"
        }
      ]
    },
    {
      "cell_type": "code",
      "metadata": {
        "id": "LXVxYhJnOzXM",
        "outputId": "35e89caf-b8b7-471d-9b2e-1b441a53063b",
        "colab": {
          "base_uri": "https://localhost:8080/",
          "height": 88
        }
      },
      "source": [
        "import random\n",
        "\n",
        "# declaring the vertices\n",
        "vertex=['a','b','c','d','e','f','g','h','i','j','k','l','m','n','o','p','q','r','s','t','u','v','w','x','y']\n",
        "sets=[]\n",
        "edges=[]\n",
        "t=[]\n",
        "n=5\n",
        "\n",
        "for i in vertex:\n",
        "  makeset(i)\n",
        "\n",
        "# generating the edges\n",
        "for i in range(0,n**2):\n",
        "  if (i+1)%n!=0:\n",
        "    e=[vertex[i],vertex[i+1]]\n",
        "    edges.append(e)\n",
        "  if i not in range(n**2-n,n**2):\n",
        "    e=[vertex[i],vertex[i+n]]\n",
        "    edges.append(e)\n",
        "  \n",
        "# displaying the sets and edges\n",
        "print(sets) \n",
        "print(edges)\n",
        "\n",
        "# loop to traverse over each edge\n",
        "while(True):\n",
        "  # randomly choosing an edge\n",
        "  e=random.choice(edges)\n",
        "  u=e[0]\n",
        "  v=e[1]\n",
        "  # finding the set of the connected vertices\n",
        "  s1=findset(u)\n",
        "  s2=findset(v)\n",
        "  if s1!=s2:\n",
        "    sets.remove(s1)\n",
        "    sets.remove(s2)\n",
        "    s3=[u,v]\n",
        "    t.append(s3) \n",
        "    for i in s2:\n",
        "      s1.append(i)\n",
        "    makeset(s1)\n",
        "  edges.remove(e)\n",
        "  # breaking condition : all edges traversed\n",
        "  if edges==[]:\n",
        "    break\n",
        "\n",
        "#printing the connected edges\n",
        "print(t)\n"
      ],
      "execution_count": 6,
      "outputs": [
        {
          "output_type": "stream",
          "text": [
            "[['a'], ['b'], ['c'], ['d'], ['e'], ['f'], ['g'], ['h'], ['i'], ['j'], ['k'], ['l'], ['m'], ['n'], ['o'], ['p'], ['q'], ['r'], ['s'], ['t'], ['u'], ['v'], ['w'], ['x'], ['y']]\n",
            "[['a', 'b'], ['a', 'f'], ['b', 'c'], ['b', 'g'], ['c', 'd'], ['c', 'h'], ['d', 'e'], ['d', 'i'], ['e', 'j'], ['f', 'g'], ['f', 'k'], ['g', 'h'], ['g', 'l'], ['h', 'i'], ['h', 'm'], ['i', 'j'], ['i', 'n'], ['j', 'o'], ['k', 'l'], ['k', 'p'], ['l', 'm'], ['l', 'q'], ['m', 'n'], ['m', 'r'], ['n', 'o'], ['n', 's'], ['o', 't'], ['p', 'q'], ['p', 'u'], ['q', 'r'], ['q', 'v'], ['r', 's'], ['r', 'w'], ['s', 't'], ['s', 'x'], ['t', 'y'], ['u', 'v'], ['v', 'w'], ['w', 'x'], ['x', 'y']]\n",
            "[['m', 'r'], ['b', 'g'], ['u', 'v'], ['b', 'c'], ['i', 'j'], ['r', 's'], ['s', 'x'], ['k', 'p'], ['l', 'm'], ['p', 'q'], ['m', 'n'], ['x', 'y'], ['n', 'o'], ['r', 'w'], ['a', 'b'], ['c', 'h'], ['e', 'j'], ['q', 'r'], ['g', 'l'], ['d', 'i'], ['a', 'f'], ['h', 'i'], ['p', 'u'], ['o', 't']]\n"
          ],
          "name": "stdout"
        }
      ]
    },
    {
      "cell_type": "code",
      "metadata": {
        "id": "AG0-W_za1mFP",
        "outputId": "6378d8d5-feae-4b42-c4cc-13980707d187",
        "colab": {
          "base_uri": "https://localhost:8080/",
          "height": 581
        }
      },
      "source": [
        "print(t)\n",
        "\n",
        "#printing the original garph\n",
        "print('\\n\\nOriginal Graph:\\n')\n",
        "print(' ** ** ** ** **')\n",
        "for i in range(0,2*n):\n",
        "  if i%2==0:\n",
        "    for j in range (0,n+1):\n",
        "      print('|  ',end='')\n",
        "  else:\n",
        "    for j in range (0,n):\n",
        "      print(' **',end='')\n",
        "  print()\n",
        "\n",
        "# printing the genrated maze\n",
        "v=0\n",
        "print('\\n\\nMaze Generated:\\n')\n",
        "print('    ** ** ** **')\n",
        "for i in range(0,n):\n",
        "  print('|',end='')\n",
        "  for j in range (v,v+n): \n",
        "    if (j+1)%n!=0:\n",
        "      if [vertex[j],vertex[j+1]] not in t: \n",
        "        print('  |',end='')\n",
        "      else:\n",
        "        print('   ',end='')\n",
        "  print('  |')\n",
        "  for j in range (v,v+n-1):\n",
        "    if j!=(n**2)-n:\n",
        "      if [vertex[j],vertex[j+n]] not in t:\n",
        "        print(' **',end='')\n",
        "      else:\n",
        "        print('   ',end='')\n",
        "    else:\n",
        "      print(' ** ** ** ** ')\n",
        "      break\n",
        "    \n",
        "  print()\n",
        "  v+=n\n",
        "\n",
        "\n",
        "\n",
        "    \n",
        "\n"
      ],
      "execution_count": 7,
      "outputs": [
        {
          "output_type": "stream",
          "text": [
            "[['m', 'r'], ['b', 'g'], ['u', 'v'], ['b', 'c'], ['i', 'j'], ['r', 's'], ['s', 'x'], ['k', 'p'], ['l', 'm'], ['p', 'q'], ['m', 'n'], ['x', 'y'], ['n', 'o'], ['r', 'w'], ['a', 'b'], ['c', 'h'], ['e', 'j'], ['q', 'r'], ['g', 'l'], ['d', 'i'], ['a', 'f'], ['h', 'i'], ['p', 'u'], ['o', 't']]\n",
            "\n",
            "\n",
            "Original Graph:\n",
            "\n",
            " ** ** ** ** **\n",
            "|  |  |  |  |  |  \n",
            " ** ** ** ** **\n",
            "|  |  |  |  |  |  \n",
            " ** ** ** ** **\n",
            "|  |  |  |  |  |  \n",
            " ** ** ** ** **\n",
            "|  |  |  |  |  |  \n",
            " ** ** ** ** **\n",
            "|  |  |  |  |  |  \n",
            " ** ** ** ** **\n",
            "\n",
            "\n",
            "Maze Generated:\n",
            "\n",
            "    ** ** ** **\n",
            "|        |  |  |\n",
            "            \n",
            "|  |  |        |\n",
            " **    ** **\n",
            "|  |           |\n",
            "    **    **\n",
            "|           |  |\n",
            "    **      \n",
            "|     |  |     |\n",
            " ** ** ** ** \n",
            "\n"
          ],
          "name": "stdout"
        }
      ]
    }
  ]
}